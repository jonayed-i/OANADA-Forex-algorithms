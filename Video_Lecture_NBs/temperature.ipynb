{
 "cells": [
  {
   "cell_type": "code",
   "execution_count": 2,
   "metadata": {
    "collapsed": true,
    "pycharm": {
     "name": "#%%\n"
    }
   },
   "outputs": [],
   "source": [
    "import pandas as pd\n",
    "import datetime as dt"
   ]
  },
  {
   "cell_type": "code",
   "execution_count": 3,
   "outputs": [
    {
     "name": "stdout",
     "output_type": "stream",
     "text": [
      "                       LA   NY\n",
      "datetime                      \n",
      "2013-01-01 00:00:00  11.7 -1.1\n",
      "2013-01-01 01:00:00  10.7 -1.7\n",
      "2013-01-01 02:00:00   9.9 -2.0\n",
      "2013-01-01 03:00:00   9.3 -2.1\n",
      "2013-01-01 04:00:00   8.8 -2.3\n"
     ]
    }
   ],
   "source": [
    "file = pd.read_csv(\"temp.csv\",parse_dates=[\"datetime\"],index_col=[\"datetime\"])\n",
    "df = file\n",
    "print(df.head())"
   ],
   "metadata": {
    "collapsed": false,
    "pycharm": {
     "name": "#%%\n"
    }
   }
  },
  {
   "cell_type": "code",
   "execution_count": 4,
   "outputs": [
    {
     "data": {
      "text/plain": "Timestamp('2013-04-03 14:00:00')"
     },
     "execution_count": 4,
     "metadata": {},
     "output_type": "execute_result"
    }
   ],
   "source": [
    "#df.info()\n",
    "df.index[2222]"
   ],
   "metadata": {
    "collapsed": false,
    "pycharm": {
     "name": "#%%\n"
    }
   }
  },
  {
   "cell_type": "code",
   "execution_count": 10,
   "outputs": [
    {
     "data": {
      "text/plain": "                       LA   NY\ndatetime                      \n2013-01-02 00:00:00  13.2  2.6\n2013-01-02 01:00:00  11.8  2.7\n2013-01-02 02:00:00  10.5  2.9\n2013-01-02 03:00:00   9.5  2.9\n2013-01-02 04:00:00   8.3  2.9\n...                   ...  ...\n2013-02-03 19:00:00  18.5 -1.7\n2013-02-03 20:00:00  18.1 -2.1\n2013-02-03 21:00:00  17.8 -2.4\n2013-02-03 22:00:00  17.8 -2.7\n2013-02-03 23:00:00  17.4 -3.0\n\n[792 rows x 2 columns]",
      "text/html": "<div>\n<style scoped>\n    .dataframe tbody tr th:only-of-type {\n        vertical-align: middle;\n    }\n\n    .dataframe tbody tr th {\n        vertical-align: top;\n    }\n\n    .dataframe thead th {\n        text-align: right;\n    }\n</style>\n<table border=\"1\" class=\"dataframe\">\n  <thead>\n    <tr style=\"text-align: right;\">\n      <th></th>\n      <th>LA</th>\n      <th>NY</th>\n    </tr>\n    <tr>\n      <th>datetime</th>\n      <th></th>\n      <th></th>\n    </tr>\n  </thead>\n  <tbody>\n    <tr>\n      <th>2013-01-02 00:00:00</th>\n      <td>13.2</td>\n      <td>2.6</td>\n    </tr>\n    <tr>\n      <th>2013-01-02 01:00:00</th>\n      <td>11.8</td>\n      <td>2.7</td>\n    </tr>\n    <tr>\n      <th>2013-01-02 02:00:00</th>\n      <td>10.5</td>\n      <td>2.9</td>\n    </tr>\n    <tr>\n      <th>2013-01-02 03:00:00</th>\n      <td>9.5</td>\n      <td>2.9</td>\n    </tr>\n    <tr>\n      <th>2013-01-02 04:00:00</th>\n      <td>8.3</td>\n      <td>2.9</td>\n    </tr>\n    <tr>\n      <th>...</th>\n      <td>...</td>\n      <td>...</td>\n    </tr>\n    <tr>\n      <th>2013-02-03 19:00:00</th>\n      <td>18.5</td>\n      <td>-1.7</td>\n    </tr>\n    <tr>\n      <th>2013-02-03 20:00:00</th>\n      <td>18.1</td>\n      <td>-2.1</td>\n    </tr>\n    <tr>\n      <th>2013-02-03 21:00:00</th>\n      <td>17.8</td>\n      <td>-2.4</td>\n    </tr>\n    <tr>\n      <th>2013-02-03 22:00:00</th>\n      <td>17.8</td>\n      <td>-2.7</td>\n    </tr>\n    <tr>\n      <th>2013-02-03 23:00:00</th>\n      <td>17.4</td>\n      <td>-3.0</td>\n    </tr>\n  </tbody>\n</table>\n<p>792 rows × 2 columns</p>\n</div>"
     },
     "execution_count": 10,
     "metadata": {},
     "output_type": "execute_result"
    }
   ],
   "source": [
    "df.loc[\"2013-01-02\" : \"2013-02-03\"]"
   ],
   "metadata": {
    "collapsed": false,
    "pycharm": {
     "name": "#%%\n"
    }
   }
  },
  {
   "cell_type": "code",
   "execution_count": 20,
   "outputs": [
    {
     "data": {
      "text/plain": "                   LA         NY\ndatetime                        \n2013-01-01   8.858333  -0.404167\n2013-01-02   9.283333   3.208333\n2013-01-03  10.304167  -2.425000\n2013-01-04  11.512500  -2.070833\n2013-01-05  11.083333   0.816667\n...               ...        ...\n2016-12-27  12.154167  10.579167\n2016-12-28  14.433333   4.016667\n2016-12-29  16.045833   1.312500\n2016-12-30  15.933333   2.204167\n2016-12-31  13.275000   1.204167\n\n[1461 rows x 2 columns]",
      "text/html": "<div>\n<style scoped>\n    .dataframe tbody tr th:only-of-type {\n        vertical-align: middle;\n    }\n\n    .dataframe tbody tr th {\n        vertical-align: top;\n    }\n\n    .dataframe thead th {\n        text-align: right;\n    }\n</style>\n<table border=\"1\" class=\"dataframe\">\n  <thead>\n    <tr style=\"text-align: right;\">\n      <th></th>\n      <th>LA</th>\n      <th>NY</th>\n    </tr>\n    <tr>\n      <th>datetime</th>\n      <th></th>\n      <th></th>\n    </tr>\n  </thead>\n  <tbody>\n    <tr>\n      <th>2013-01-01</th>\n      <td>8.858333</td>\n      <td>-0.404167</td>\n    </tr>\n    <tr>\n      <th>2013-01-02</th>\n      <td>9.283333</td>\n      <td>3.208333</td>\n    </tr>\n    <tr>\n      <th>2013-01-03</th>\n      <td>10.304167</td>\n      <td>-2.425000</td>\n    </tr>\n    <tr>\n      <th>2013-01-04</th>\n      <td>11.512500</td>\n      <td>-2.070833</td>\n    </tr>\n    <tr>\n      <th>2013-01-05</th>\n      <td>11.083333</td>\n      <td>0.816667</td>\n    </tr>\n    <tr>\n      <th>...</th>\n      <td>...</td>\n      <td>...</td>\n    </tr>\n    <tr>\n      <th>2016-12-27</th>\n      <td>12.154167</td>\n      <td>10.579167</td>\n    </tr>\n    <tr>\n      <th>2016-12-28</th>\n      <td>14.433333</td>\n      <td>4.016667</td>\n    </tr>\n    <tr>\n      <th>2016-12-29</th>\n      <td>16.045833</td>\n      <td>1.312500</td>\n    </tr>\n    <tr>\n      <th>2016-12-30</th>\n      <td>15.933333</td>\n      <td>2.204167</td>\n    </tr>\n    <tr>\n      <th>2016-12-31</th>\n      <td>13.275000</td>\n      <td>1.204167</td>\n    </tr>\n  </tbody>\n</table>\n<p>1461 rows × 2 columns</p>\n</div>"
     },
     "execution_count": 20,
     "metadata": {},
     "output_type": "execute_result"
    }
   ],
   "source": [
    "df.resample(\"D\").mean()"
   ],
   "metadata": {
    "collapsed": false,
    "pycharm": {
     "name": "#%%\n"
    }
   }
  }
 ],
 "metadata": {
  "kernelspec": {
   "display_name": "Python 3",
   "language": "python",
   "name": "python3"
  },
  "language_info": {
   "codemirror_mode": {
    "name": "ipython",
    "version": 2
   },
   "file_extension": ".py",
   "mimetype": "text/x-python",
   "name": "python",
   "nbconvert_exporter": "python",
   "pygments_lexer": "ipython2",
   "version": "2.7.6"
  }
 },
 "nbformat": 4,
 "nbformat_minor": 0
}